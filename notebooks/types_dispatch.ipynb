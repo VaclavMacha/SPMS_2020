{
 "cells": [
  {
   "cell_type": "markdown",
   "metadata": {},
   "source": [
    "# Julia basics\n",
    "## Functions\n",
    "In Julia, a function is an object that maps a tuple of argument values to a return value. In the following example we define function that"
   ]
  },
  {
   "cell_type": "code",
   "execution_count": null,
   "metadata": {},
   "outputs": [],
   "source": [
    "function f(x,y)\n",
    "    x * y\n",
    "end"
   ]
  },
  {
   "cell_type": "markdown",
   "metadata": {},
   "source": [
    "This function accepts two arguments `x` and `y` and returns the value of the last expression evaluated, which is `x * y`."
   ]
  },
  {
   "cell_type": "code",
   "execution_count": null,
   "metadata": {},
   "outputs": [],
   "source": [
    "[f(2, 3), f(2, -3)]"
   ]
  },
  {
   "cell_type": "markdown",
   "metadata": {},
   "source": [
    "Sometimes it is useful to return something other than the last expression.  For such a case there is an `return` keyword:"
   ]
  },
  {
   "cell_type": "code",
   "execution_count": null,
   "metadata": {},
   "outputs": [],
   "source": [
    "function g(x,y)\n",
    "    val = x * y\n",
    "    if val < 0\n",
    "        return -val\n",
    "    else\n",
    "        return val\n",
    "    end\n",
    "end"
   ]
  },
  {
   "cell_type": "markdown",
   "metadata": {},
   "source": [
    "This function accepts two arguments `x` and `y` and computes `val = x * y`. Then if `val` is less than zero, it returns` -val`, otherwise it returns `val`."
   ]
  },
  {
   "cell_type": "code",
   "execution_count": null,
   "metadata": {},
   "outputs": [],
   "source": [
    "[g(2, 3), g(2, -3)]"
   ]
  },
  {
   "cell_type": "markdown",
   "metadata": {},
   "source": [
    "The traditional function declaration syntax demonstrated above is equivalent to the following compact form, which is very common in Julia:"
   ]
  },
  {
   "cell_type": "code",
   "execution_count": null,
   "metadata": {},
   "outputs": [],
   "source": [
    "f(x,y) = x * y"
   ]
  },
  {
   "cell_type": "markdown",
   "metadata": {},
   "source": [
    "### Optional and keyword arguments"
   ]
  },
  {
   "cell_type": "markdown",
   "metadata": {},
   "source": [
    "Other very useful things are optional and keyword arguments, which can be added in a very easy way"
   ]
  },
  {
   "cell_type": "code",
   "execution_count": null,
   "metadata": {},
   "outputs": [],
   "source": [
    "function f_hello(x, y, a = 0; sayhello = false)\n",
    "    sayhello && println(\"Hello everyone 👋\" )\n",
    "    x * y + a\n",
    "end"
   ]
  },
  {
   "cell_type": "markdown",
   "metadata": {},
   "source": [
    "This function accepts two arguments `x` and `y`, one optional argument `a` and one keyword argument `sayhello`. If the function is called only with mandatory arguments, then it returns `x * y + 0`"
   ]
  },
  {
   "cell_type": "code",
   "execution_count": null,
   "metadata": {},
   "outputs": [],
   "source": [
    "f_hello(2,3)"
   ]
  },
  {
   "cell_type": "markdown",
   "metadata": {},
   "source": [
    "The change of the optional argument `a` will change the output value to `x * y + a`"
   ]
  },
  {
   "cell_type": "code",
   "execution_count": null,
   "metadata": {},
   "outputs": [],
   "source": [
    "f_hello(2,3,2)"
   ]
  },
  {
   "cell_type": "markdown",
   "metadata": {},
   "source": [
    "Since `f_hello` is a function with good manners (as opposed to `f`), it says hello if the keyword argument `sayhello` is true"
   ]
  },
  {
   "cell_type": "code",
   "execution_count": null,
   "metadata": {},
   "outputs": [],
   "source": [
    "f_hello(2,3; sayhello = true)"
   ]
  },
  {
   "cell_type": "markdown",
   "metadata": {},
   "source": [
    "## Anonymous functions"
   ]
  },
  {
   "cell_type": "markdown",
   "metadata": {},
   "source": [
    "It is also common to use anonymous functions, ie functions without specified name. Such a function can be defined in almost the same way as a normal function:"
   ]
  },
  {
   "cell_type": "code",
   "execution_count": null,
   "metadata": {},
   "outputs": [],
   "source": [
    "h1 = function (x)\n",
    "    x^2 + 2x - 1\n",
    "end\n",
    "\n",
    "h2 = x ->  x^2 + 2x - 1"
   ]
  },
  {
   "cell_type": "markdown",
   "metadata": {},
   "source": [
    " Those two function declarations create functions with automatically generated names. Then variables `h1` and `h2` only refers to these functions. The primary use for anonymous functions is passing them to functions which take other functions as arguments. A classic example is `map`, which applies a function to each value of an array and returns a new array containing the resulting values:"
   ]
  },
  {
   "cell_type": "code",
   "execution_count": null,
   "metadata": {},
   "outputs": [],
   "source": [
    "map(x -> x^2 + 2x - 1, [1,3,-1])"
   ]
  },
  {
   "cell_type": "markdown",
   "metadata": {},
   "source": [
    "For more complicated functions, the `do` blocks can be used"
   ]
  },
  {
   "cell_type": "code",
   "execution_count": null,
   "metadata": {},
   "outputs": [],
   "source": [
    "map([1,3,-1]) do x\n",
    "    x^2 + 2x - 1\n",
    "end"
   ]
  },
  {
   "cell_type": "markdown",
   "metadata": {},
   "source": [
    "## Arrays\n",
    "\n",
    "Arrays can be constructed directly with square braces; the syntax"
   ]
  },
  {
   "cell_type": "code",
   "execution_count": null,
   "metadata": {},
   "outputs": [],
   "source": [
    "vector = [1:2, 4:5]"
   ]
  },
  {
   "cell_type": "markdown",
   "metadata": {},
   "source": [
    "creates a one dimensional array (i.e., a vector)"
   ]
  },
  {
   "cell_type": "code",
   "execution_count": null,
   "metadata": {},
   "outputs": [],
   "source": [
    "size(vector)"
   ]
  },
  {
   "cell_type": "markdown",
   "metadata": {},
   "source": [
    "If the arguments inside the square brackets are separated by semicolons (;) or newlines instead of commas, then their contents are vertically concatenated together instead of the arguments being used as elements themselves."
   ]
  },
  {
   "cell_type": "code",
   "execution_count": null,
   "metadata": {},
   "outputs": [],
   "source": [
    "[1:2; 4:5]"
   ]
  },
  {
   "cell_type": "code",
   "execution_count": null,
   "metadata": {},
   "outputs": [],
   "source": [
    "[1:2\n",
    "4:5]"
   ]
  },
  {
   "cell_type": "markdown",
   "metadata": {},
   "source": [
    "Similarly, if the arguments are separated by tabs or spaces, then their contents are horizontally concatenated together."
   ]
  },
  {
   "cell_type": "code",
   "execution_count": null,
   "metadata": {},
   "outputs": [],
   "source": [
    "[1:2  4:5  7:8]"
   ]
  },
  {
   "cell_type": "markdown",
   "metadata": {},
   "source": [
    "Using semicolons (or newlines) and spaces (or tabs) can be combined to concatenate both horizontally and vertically at the same time."
   ]
  },
  {
   "cell_type": "code",
   "execution_count": null,
   "metadata": {},
   "outputs": [],
   "source": [
    "[1 2\n",
    "3 4]"
   ]
  },
  {
   "cell_type": "markdown",
   "metadata": {},
   "source": [
    "There is a convenient notation (called slicing) to access a subset of elements from an array. Let’s suppose we want to access the 2nd to 5th elements of an array of length 6, we can do it in the following way:"
   ]
  },
  {
   "cell_type": "code",
   "execution_count": null,
   "metadata": {},
   "outputs": [],
   "source": [
    "a = [1,2,3,4,5,6]\n",
    "a[2:5]"
   ]
  },
  {
   "cell_type": "markdown",
   "metadata": {},
   "source": [
    "We can also use this notation to access a subset of a matrix, for example:"
   ]
  },
  {
   "cell_type": "code",
   "execution_count": 1,
   "metadata": {},
   "outputs": [
    {
     "data": {
      "text/plain": [
       "4×4 Array{Float64,2}:\n",
       " 0.374414   0.862612  0.884534  0.633864\n",
       " 0.0390375  0.904431  0.337823  0.0903595\n",
       " 0.0490323  0.357023  0.222329  0.176346\n",
       " 0.0503614  0.338309  0.390375  0.805455"
      ]
     },
     "execution_count": 1,
     "metadata": {},
     "output_type": "execute_result"
    }
   ],
   "source": [
    "A = rand(4,4)"
   ]
  },
  {
   "cell_type": "code",
   "execution_count": 2,
   "metadata": {},
   "outputs": [
    {
     "data": {
      "text/plain": [
       "2×2 Array{Float64,2}:\n",
       " 0.904431  0.337823\n",
       " 0.357023  0.222329"
      ]
     },
     "execution_count": 2,
     "metadata": {},
     "output_type": "execute_result"
    }
   ],
   "source": [
    "A[2:3, 2:3]"
   ]
  },
  {
   "cell_type": "markdown",
   "metadata": {},
   "source": [
    "As in other programming languages, arrays are pointers to location in memory, thus we need to pay attention when we handle them. If we create an array `A` and we assign it to a variable `b`, the elements of the original array can be modified be modified by accessing `b`:"
   ]
  },
  {
   "cell_type": "code",
   "execution_count": null,
   "metadata": {},
   "outputs": [],
   "source": [
    "a = [1,2,3]\n",
    "b = a"
   ]
  },
  {
   "cell_type": "code",
   "execution_count": null,
   "metadata": {},
   "outputs": [],
   "source": [
    "b[2] = 42\n",
    "a"
   ]
  },
  {
   "cell_type": "markdown",
   "metadata": {},
   "source": [
    "This is particularly useful because it lets us save memory, but may have undesirable effects. If we want to make a copy of an array we need to use the function `copy`"
   ]
  },
  {
   "cell_type": "code",
   "execution_count": null,
   "metadata": {},
   "outputs": [],
   "source": [
    "a = [1,2,3]\n",
    "b = copy(a)"
   ]
  },
  {
   "cell_type": "code",
   "execution_count": null,
   "metadata": {},
   "outputs": [],
   "source": [
    "b[2] = 42\n",
    "b"
   ]
  },
  {
   "cell_type": "code",
   "execution_count": null,
   "metadata": {},
   "outputs": [],
   "source": [
    "a"
   ]
  },
  {
   "cell_type": "markdown",
   "metadata": {},
   "source": [
    "### Iteration"
   ]
  },
  {
   "cell_type": "code",
   "execution_count": 3,
   "metadata": {},
   "outputs": [
    {
     "name": "stdout",
     "output_type": "stream",
     "text": [
      "a = 0.8052578079087875\n",
      "a = 0.3463371127878929\n",
      "a = 0.6869058932844883\n",
      "a = 0.6062288161869653\n",
      "a = 0.4269841139539483\n",
      "a = 0.1871632030530388\n",
      "a = 0.17534921919664015\n",
      "a = 0.5460450874129421\n",
      "a = 0.9135256896173936\n",
      "a = 0.10558557989438389\n",
      "a = 0.1590322151710042\n",
      "a = 0.14635485982595342\n"
     ]
    }
   ],
   "source": [
    "A = rand(4,3)\n",
    "for a in A\n",
    "    @show a\n",
    "end"
   ]
  },
  {
   "cell_type": "code",
   "execution_count": 4,
   "metadata": {},
   "outputs": [
    {
     "name": "stdout",
     "output_type": "stream",
     "text": [
      "i = 1\n",
      "i = 2\n",
      "i = 3\n",
      "i = 4\n",
      "i = 5\n",
      "i = 6\n",
      "i = 7\n",
      "i = 8\n",
      "i = 9\n",
      "i = 10\n",
      "i = 11\n",
      "i = 12\n"
     ]
    }
   ],
   "source": [
    "for i in eachindex(A)\n",
    "    @show i\n",
    "end"
   ]
  },
  {
   "cell_type": "code",
   "execution_count": 5,
   "metadata": {},
   "outputs": [
    {
     "name": "stdout",
     "output_type": "stream",
     "text": [
      "(i, a) = (1, 0.8052578079087875)\n",
      "(i, a) = (2, 0.3463371127878929)\n",
      "(i, a) = (3, 0.6869058932844883)\n",
      "(i, a) = (4, 0.6062288161869653)\n",
      "(i, a) = (5, 0.4269841139539483)\n",
      "(i, a) = (6, 0.1871632030530388)\n",
      "(i, a) = (7, 0.17534921919664015)\n",
      "(i, a) = (8, 0.5460450874129421)\n",
      "(i, a) = (9, 0.9135256896173936)\n",
      "(i, a) = (10, 0.10558557989438389)\n",
      "(i, a) = (11, 0.1590322151710042)\n",
      "(i, a) = (12, 0.14635485982595342)\n"
     ]
    }
   ],
   "source": [
    "for (i, a) in enumerate(A)\n",
    "    @show (i, a)\n",
    "end"
   ]
  },
  {
   "cell_type": "markdown",
   "metadata": {},
   "source": [
    "### Comprehensions and Generator Expressions\n",
    "\n",
    "Comprehensions provide a general and powerful way to construct arrays. Comprehension syntax is similar to set construction notation in mathematics:"
   ]
  },
  {
   "cell_type": "code",
   "execution_count": 6,
   "metadata": {},
   "outputs": [
    {
     "data": {
      "text/plain": [
       "10×4 Array{Int64,2}:\n",
       " 12  13  14  15\n",
       " 13  14  15  16\n",
       " 14  15  16  17\n",
       " 15  16  17  18\n",
       " 16  17  18  19\n",
       " 17  18  19  20\n",
       " 18  19  20  21\n",
       " 19  20  21  22\n",
       " 20  21  22  23\n",
       " 21  22  23  24"
      ]
     },
     "execution_count": 6,
     "metadata": {},
     "output_type": "execute_result"
    }
   ],
   "source": [
    "f(x, y) = x + y\n",
    "A = [f(x,y) for x in 1:10, y in 11:14]"
   ]
  },
  {
   "cell_type": "markdown",
   "metadata": {},
   "source": [
    "Comprehensions can also be written without the enclosing square brackets, producing an object known as a generator. This object can be iterated to produce values on demand, instead of allocating an array and storing them in advance (see Iteration). For example, the following expression sums a series without allocating memory:"
   ]
  },
  {
   "cell_type": "code",
   "execution_count": 7,
   "metadata": {},
   "outputs": [
    {
     "data": {
      "text/plain": [
       "1.6439345666815615"
      ]
     },
     "execution_count": 7,
     "metadata": {},
     "output_type": "execute_result"
    }
   ],
   "source": [
    "sum(1/n^2 for n in 1:1000)"
   ]
  },
  {
   "cell_type": "markdown",
   "metadata": {},
   "source": [
    "Ranges in generators and comprehensions can depend on previous ranges by writing multiple for keywords:"
   ]
  },
  {
   "cell_type": "code",
   "execution_count": 8,
   "metadata": {},
   "outputs": [
    {
     "data": {
      "text/plain": [
       "6-element Array{Tuple{Int64,Int64},1}:\n",
       " (1, 1)\n",
       " (2, 1)\n",
       " (2, 2)\n",
       " (3, 1)\n",
       " (3, 2)\n",
       " (3, 3)"
      ]
     },
     "execution_count": 8,
     "metadata": {},
     "output_type": "execute_result"
    }
   ],
   "source": [
    "[(i,j) for i in 1:3 for j in 1:i]"
   ]
  },
  {
   "cell_type": "markdown",
   "metadata": {},
   "source": [
    "In such cases, the result is always 1-d. Generated values can also be filtered using the if keyword:"
   ]
  },
  {
   "cell_type": "code",
   "execution_count": 9,
   "metadata": {},
   "outputs": [
    {
     "data": {
      "text/plain": [
       "2-element Array{Tuple{Int64,Int64},1}:\n",
       " (2, 2)\n",
       " (3, 1)"
      ]
     },
     "execution_count": 9,
     "metadata": {},
     "output_type": "execute_result"
    }
   ],
   "source": [
    "[(i,j) for i in 1:3 for j in 1:i if i+j == 4]"
   ]
  },
  {
   "cell_type": "markdown",
   "metadata": {},
   "source": [
    "### Broadcasting\n",
    "\n",
    "In Julia, with broadcasting we indicate the action of mapping a function or an operation (which are the same in Julia) over an array or a matrix element by element. The broadcasting notation for operators consists of adding a dot `.` before the operator (for example `.*`)"
   ]
  },
  {
   "cell_type": "code",
   "execution_count": 10,
   "metadata": {},
   "outputs": [
    {
     "data": {
      "text/plain": [
       "1×3 Array{Int64,2}:\n",
       " 4  5  6"
      ]
     },
     "execution_count": 10,
     "metadata": {},
     "output_type": "execute_result"
    }
   ],
   "source": [
    "a = [1,2,3] # column vector\n",
    "b = [4,5,6] # column vector\n",
    "c = [4 5 6] # row vector"
   ]
  },
  {
   "cell_type": "markdown",
   "metadata": {},
   "source": [
    "Without the dot, we get an error, since we cannot multiply column vector by another column vector"
   ]
  },
  {
   "cell_type": "code",
   "execution_count": 11,
   "metadata": {},
   "outputs": [
    {
     "ename": "LoadError",
     "evalue": "MethodError: no method matching *(::Array{Int64,1}, ::Array{Int64,1})\nClosest candidates are:\n  *(::Any, ::Any, !Matched::Any, !Matched::Any...) at operators.jl:538\n  *(!Matched::LinearAlgebra.Adjoint{var\"#s826\",var\"#s8261\"} where var\"#s8261\"<:(AbstractArray{T,1} where T) where var\"#s826\"<:Number, ::AbstractArray{var\"#s825\",1} where var\"#s825\"<:Number) at /buildworker/worker/package_linux64/build/usr/share/julia/stdlib/v1.5/LinearAlgebra/src/adjtrans.jl:283\n  *(!Matched::LinearAlgebra.Transpose{T,var\"#s826\"} where var\"#s826\"<:(AbstractArray{T,1} where T), ::AbstractArray{T,1}) where T<:Real at /buildworker/worker/package_linux64/build/usr/share/julia/stdlib/v1.5/LinearAlgebra/src/adjtrans.jl:284\n  ...",
     "output_type": "error",
     "traceback": [
      "MethodError: no method matching *(::Array{Int64,1}, ::Array{Int64,1})\nClosest candidates are:\n  *(::Any, ::Any, !Matched::Any, !Matched::Any...) at operators.jl:538\n  *(!Matched::LinearAlgebra.Adjoint{var\"#s826\",var\"#s8261\"} where var\"#s8261\"<:(AbstractArray{T,1} where T) where var\"#s826\"<:Number, ::AbstractArray{var\"#s825\",1} where var\"#s825\"<:Number) at /buildworker/worker/package_linux64/build/usr/share/julia/stdlib/v1.5/LinearAlgebra/src/adjtrans.jl:283\n  *(!Matched::LinearAlgebra.Transpose{T,var\"#s826\"} where var\"#s826\"<:(AbstractArray{T,1} where T), ::AbstractArray{T,1}) where T<:Real at /buildworker/worker/package_linux64/build/usr/share/julia/stdlib/v1.5/LinearAlgebra/src/adjtrans.jl:284\n  ...",
      "",
      "Stacktrace:",
      " [1] top-level scope at In[11]:1",
      " [2] include_string(::Function, ::Module, ::String, ::String) at ./loading.jl:1091"
     ]
    }
   ],
   "source": [
    "a * b"
   ]
  },
  {
   "cell_type": "code",
   "execution_count": 12,
   "metadata": {},
   "outputs": [
    {
     "data": {
      "text/plain": [
       "1-element Array{Int64,1}:\n",
       " 32"
      ]
     },
     "execution_count": 12,
     "metadata": {},
     "output_type": "execute_result"
    }
   ],
   "source": [
    "c * a"
   ]
  },
  {
   "cell_type": "markdown",
   "metadata": {},
   "source": [
    "This makes perfectly sense from a mathematical point of view and operators behave how we would mathematically expect. Nonetheless, in programming it is often useful to write operations which work on an element by element basis, and for this reason broadcasting comes to our help."
   ]
  },
  {
   "cell_type": "code",
   "execution_count": 13,
   "metadata": {},
   "outputs": [
    {
     "data": {
      "text/plain": [
       "3-element Array{Int64,1}:\n",
       "  4\n",
       " 10\n",
       " 18"
      ]
     },
     "execution_count": 13,
     "metadata": {},
     "output_type": "execute_result"
    }
   ],
   "source": [
    "a .* b"
   ]
  },
  {
   "cell_type": "code",
   "execution_count": 14,
   "metadata": {},
   "outputs": [
    {
     "data": {
      "text/plain": [
       "3×3 Array{Int64,2}:\n",
       "  4   5   6\n",
       "  8  10  12\n",
       " 12  15  18"
      ]
     },
     "execution_count": 14,
     "metadata": {},
     "output_type": "execute_result"
    }
   ],
   "source": [
    "c .* a"
   ]
  },
  {
   "cell_type": "markdown",
   "metadata": {},
   "source": [
    "We can use the broadcasting notation also to map a function over an n-dimensional array. There is no speed gain in doing so, as it will be exactly equivalent to writing a for loop, but its conciseness may be useful sometimes. So the core idea in Julia is to write functions that take single values and use broadcasting when needed, unless the functions must explicitly work on arrays (for example to compute the mean of a series of values, perform matrix operations, vector multiplications, etc)."
   ]
  },
  {
   "cell_type": "code",
   "execution_count": 15,
   "metadata": {},
   "outputs": [
    {
     "data": {
      "text/plain": [
       "3-element Array{Int64,1}:\n",
       " 2\n",
       " 3\n",
       " 4"
      ]
     },
     "execution_count": 15,
     "metadata": {},
     "output_type": "execute_result"
    }
   ],
   "source": [
    "a = [1,2,3]\n",
    "ff(x) = x + 1\n",
    "ff.(a)"
   ]
  },
  {
   "cell_type": "markdown",
   "metadata": {},
   "source": [
    "## Types, methods and multiple-dispatch"
   ]
  },
  {
   "cell_type": "markdown",
   "metadata": {},
   "source": [
    "So far we did not mention any types. The default behavior in Julia when types are omitted is to allow values to be of any type. Thus, one can write many useful Julia functions without ever explicitly using types. When additional expressiveness is needed, however, it is easy to gradually introduce explicit type annotations into previously \"untyped\" code.\n",
    "\n",
    " In Julia, functions consist of multiple methods. The choice of which method to execute when a function is applied is called dispatch. Julia allows the dispatch process to choose which of a function's methods to call based on\n",
    "* the number of arguments given\n",
    "* types of all of the function's arguments.\n",
    "\n",
    "Using all of a function's arguments to choose which method should be invoked is known as **multiple dispatch**.\n",
    "\n",
    "Until now, we have defined only functions with a single method having unconstrained argument types."
   ]
  },
  {
   "cell_type": "code",
   "execution_count": null,
   "metadata": {},
   "outputs": [],
   "source": [
    "f(x, y) = x * y"
   ]
  },
  {
   "cell_type": "markdown",
   "metadata": {},
   "source": [
    "We can easily check which methods are defined for this function using the `methods` function"
   ]
  },
  {
   "cell_type": "code",
   "execution_count": null,
   "metadata": {},
   "outputs": [],
   "source": [
    "methods(f)"
   ]
  },
  {
   "cell_type": "markdown",
   "metadata": {},
   "source": [
    "Each function can be easily extended by new methods"
   ]
  },
  {
   "cell_type": "code",
   "execution_count": null,
   "metadata": {},
   "outputs": [],
   "source": [
    "f(x, y, z) = x * y * z\n",
    "f(x, y, z, q) = x * y * z * q\n",
    "f(x...) = reduce(*, x)\n",
    "\n",
    "methods(f)"
   ]
  },
  {
   "cell_type": "markdown",
   "metadata": {},
   "source": [
    "Since we did not specify what types of arguments are allowed, function `f` will work for all types"
   ]
  },
  {
   "cell_type": "code",
   "execution_count": null,
   "metadata": {},
   "outputs": [],
   "source": [
    "[\n",
    "    f(2, 3),\n",
    "    f(2.0, 3),\n",
    "    f(2, 3.0),\n",
    "    f(\"a\", \"b\")\n",
    "]"
   ]
  },
  {
   "cell_type": "markdown",
   "metadata": {},
   "source": [
    "However, some combinations of arguments will result in an error"
   ]
  },
  {
   "cell_type": "code",
   "execution_count": null,
   "metadata": {},
   "outputs": [],
   "source": [
    "f(:a, :b)"
   ]
  },
  {
   "cell_type": "markdown",
   "metadata": {},
   "source": [
    " When using types we can be extremely conservative and we can set a specific type for each function argument"
   ]
  },
  {
   "cell_type": "code",
   "execution_count": null,
   "metadata": {},
   "outputs": [],
   "source": [
    "foo(x::Int64, y::Int64) = x * y"
   ]
  },
  {
   "cell_type": "markdown",
   "metadata": {},
   "source": [
    "This function definition applies only to calls where `x` and `y` are both values of type Int64:"
   ]
  },
  {
   "cell_type": "code",
   "execution_count": null,
   "metadata": {},
   "outputs": [],
   "source": [
    "foo(2,3)"
   ]
  },
  {
   "cell_type": "markdown",
   "metadata": {},
   "source": [
    "Applying it to any other types of arguments will result in a `MethodError`:"
   ]
  },
  {
   "cell_type": "code",
   "execution_count": null,
   "metadata": {},
   "outputs": [],
   "source": [
    "foo(2.0,3)"
   ]
  },
  {
   "cell_type": "markdown",
   "metadata": {},
   "source": [
    "It is better to use abstract types like `Number` or` Real` instead of concrete types like `Float64`,` Float32`, `Int64` ... .  To find an super type for a specific type, we can use  `supertype` function"
   ]
  },
  {
   "cell_type": "code",
   "execution_count": null,
   "metadata": {},
   "outputs": [],
   "source": [
    "supertype(Int64)"
   ]
  },
  {
   "cell_type": "markdown",
   "metadata": {},
   "source": [
    "or we can create a simple recursive function that prints the entire tree of supertypes for a given type"
   ]
  },
  {
   "cell_type": "code",
   "execution_count": 16,
   "metadata": {},
   "outputs": [
    {
     "name": "stdout",
     "output_type": "stream",
     "text": [
      "\u001b[32m\u001b[1mInt64\u001b[22m\u001b[39m\n",
      "\u001b[34m\u001b[1m   Signed\u001b[22m\u001b[39m\n",
      "\u001b[34m\u001b[1m      Integer\u001b[22m\u001b[39m\n",
      "\u001b[34m\u001b[1m         Real\u001b[22m\u001b[39m\n",
      "\u001b[34m\u001b[1m            Number\u001b[22m\u001b[39m\n"
     ]
    }
   ],
   "source": [
    "function supertypes_tree(::Type{T}, k::Int = 0) where {T <: Any}\n",
    "    T === Any && return\n",
    "    col = isabstracttype(T) ? :blue : :green\n",
    "    printstyled(repeat(\"   \", k)..., T, \"\\n\"; bold = true, color = col)\n",
    "    supertypes_tree(supertype(T), k + 1)\n",
    "    return\n",
    "end\n",
    "\n",
    "supertypes_tree(Int64)"
   ]
  },
  {
   "cell_type": "markdown",
   "metadata": {},
   "source": [
    " All abstract types are printed in blue and all concrete types are printed in green. There is also `subtypes` function, which returns all subtypes for a given type."
   ]
  },
  {
   "cell_type": "code",
   "execution_count": null,
   "metadata": {},
   "outputs": [],
   "source": [
    "subtypes(Number)"
   ]
  },
  {
   "cell_type": "markdown",
   "metadata": {},
   "source": [
    "As with supertypes, we can create a simple recursive function that prints the entire tree of subtypes for a given type."
   ]
  },
  {
   "cell_type": "code",
   "execution_count": null,
   "metadata": {},
   "outputs": [],
   "source": [
    "function subtypes_tree(::Type{T}, k::Int = 0) where {T <: Any}\n",
    "    col = isabstracttype(T) ? :blue : :green\n",
    "    printstyled(repeat(\"   \", k)..., T; bold = true, color = col)\n",
    "    println()\n",
    "    subtypes_tree.(subtypes(T), k + 1)\n",
    "    return\n",
    "end\n",
    "\n",
    "\n",
    "subtypes_tree(Number)"
   ]
  },
  {
   "cell_type": "markdown",
   "metadata": {},
   "source": [
    "From the tree of all subtypes of the abstract type \"Number,\" we see the whole structure of numerical types in Julia. So if we really want to specify the argument types of a function, we should use some abstract type, such as `Real`"
   ]
  },
  {
   "cell_type": "code",
   "execution_count": null,
   "metadata": {},
   "outputs": [],
   "source": [
    "foo(x::Real, y::Real) = x * y"
   ]
  },
  {
   "cell_type": "markdown",
   "metadata": {},
   "source": [
    "This function definition applies to calls where `x` and `y` are both values of any subtype of `Real`."
   ]
  },
  {
   "cell_type": "code",
   "execution_count": null,
   "metadata": {},
   "outputs": [],
   "source": [
    "Real[\n",
    "    foo(2.0, 3)\n",
    "    foo(2.0, 3.0)\n",
    "    foo(Int32(2), Int16(3.0))\n",
    "    foo(Int32(2), Float32(3.0))\n",
    "]"
   ]
  },
  {
   "cell_type": "markdown",
   "metadata": {},
   "source": [
    "Now we can check again how many methods are defined for `foo`"
   ]
  },
  {
   "cell_type": "code",
   "execution_count": null,
   "metadata": {},
   "outputs": [],
   "source": [
    "methods(foo)"
   ]
  },
  {
   "cell_type": "markdown",
   "metadata": {},
   "source": [
    "### Method Ambiguities\n",
    "\n",
    "It is possible to define a set of function methods such that there is no unique most specific method applicable to some combinations of arguments:"
   ]
  },
  {
   "cell_type": "code",
   "execution_count": null,
   "metadata": {},
   "outputs": [],
   "source": [
    "goo(x::Float64, y) = x * y\n",
    "goo(x, y::Float64) = x + y"
   ]
  },
  {
   "cell_type": "markdown",
   "metadata": {},
   "source": [
    " Here, the `goo` function has two methods. The first method applies if the first argument is of type `Float64`."
   ]
  },
  {
   "cell_type": "code",
   "execution_count": null,
   "metadata": {},
   "outputs": [],
   "source": [
    "goo(2.0, 3)"
   ]
  },
  {
   "cell_type": "markdown",
   "metadata": {},
   "source": [
    "The second method applies if the second argument is of type `Float64`."
   ]
  },
  {
   "cell_type": "code",
   "execution_count": null,
   "metadata": {},
   "outputs": [],
   "source": [
    "goo(2, 3.0)"
   ]
  },
  {
   "cell_type": "markdown",
   "metadata": {},
   "source": [
    "The case, where both arguments are of type `Float64` can be handled by both methods. The problem is that neither method is more specific than the other. In such cases, Julia raises a `MethodError` rather than arbitrarily picking a method."
   ]
  },
  {
   "cell_type": "code",
   "execution_count": null,
   "metadata": {},
   "outputs": [],
   "source": [
    "goo(2.0, 3.0)"
   ]
  },
  {
   "cell_type": "markdown",
   "metadata": {},
   "source": [
    " We can avoid method ambiguities by specifying an appropriate method for the intersection case:"
   ]
  },
  {
   "cell_type": "code",
   "execution_count": null,
   "metadata": {},
   "outputs": [],
   "source": [
    "goo(x::Float64, y::Float64) = x - y\n",
    "goo(2.0, 3.0)"
   ]
  },
  {
   "cell_type": "markdown",
   "metadata": {},
   "source": [
    "If we can check again how many methods are defined for `goo`, there will be three methods"
   ]
  },
  {
   "cell_type": "code",
   "execution_count": null,
   "metadata": {},
   "outputs": [],
   "source": [
    "methods(goo)"
   ]
  },
  {
   "cell_type": "markdown",
   "metadata": {},
   "source": [
    "### Composite types\n",
    "\n",
    "Composite types are called records, structs, or objects in various languages. A composite type is a collection of named fields, an instance of which can be treated as a single value. In many languages, composite types are the only kind of user-definable type, and they are by far the most commonly used user-defined type in Julia as well."
   ]
  },
  {
   "cell_type": "code",
   "execution_count": null,
   "metadata": {},
   "outputs": [],
   "source": [
    "abstract type Food{T<:Real} end\n",
    "abstract type Fruit{T<:Real} <: Food{T} end\n",
    "abstract type Vegetable{T<:Real} <: Food{T} end\n",
    "\n",
    "struct Apple{T<:Real} <: Fruit{T}  weight::T end\n",
    "struct Orange{T<:Real} <: Fruit{T} weight::T end\n",
    "struct Banana{T<:Real} <: Fruit{T} weight::T end\n",
    "\n",
    "struct Cucumber{T<:Real} <: Vegetable{T} weight::T end\n",
    "struct Carrot{T<:Real} <: Vegetable{T} weight::T end\n",
    "struct Lettuce{T<:Real} <: Vegetable{T} weight::T end"
   ]
  },
  {
   "cell_type": "markdown",
   "metadata": {},
   "source": [
    "Using the `subtypes_tree` function, we can easily check the type hierarchy"
   ]
  },
  {
   "cell_type": "code",
   "execution_count": null,
   "metadata": {},
   "outputs": [],
   "source": [
    "subtypes_tree(Food)"
   ]
  },
  {
   "cell_type": "markdown",
   "metadata": {},
   "source": [
    "In Julia, it is not possible to set mandatory fields for all subtypes of a given abstract type. For example, each food subtype should have a specified color. However, we can easily define general properties using multiple-dispatch"
   ]
  },
  {
   "cell_type": "code",
   "execution_count": null,
   "metadata": {},
   "outputs": [],
   "source": [
    "color(::Type{<:Apple}) = \"red\"\n",
    "color(::Type{<:Orange}) = \"orange\"\n",
    "color(::Type{<:Banana}) = \"yellow\"\n",
    "color(::Type{<:Cucumber}) = \"green\"\n",
    "color(::Type{<:Carrot}) = \"orange\"\n",
    "color(::Type{<:Lettuce}) = \"green\""
   ]
  },
  {
   "cell_type": "markdown",
   "metadata": {},
   "source": [
    "However, these methods can be applied only to the type itself."
   ]
  },
  {
   "cell_type": "code",
   "execution_count": null,
   "metadata": {},
   "outputs": [],
   "source": [
    "[color(Apple), color(Lettuce)]"
   ]
  },
  {
   "cell_type": "markdown",
   "metadata": {},
   "source": [
    "To apply `color` function to a specific instance of any `Food` subtype, we must do the following"
   ]
  },
  {
   "cell_type": "code",
   "execution_count": null,
   "metadata": {},
   "outputs": [],
   "source": [
    "a = Apple(123)\n",
    "color(typeof(a))"
   ]
  },
  {
   "cell_type": "markdown",
   "metadata": {},
   "source": [
    "However, it can be also done in a more elegant way using a new method."
   ]
  },
  {
   "cell_type": "code",
   "execution_count": null,
   "metadata": {},
   "outputs": [],
   "source": [
    "color(::T) where {T<:Food} = color(T)\n",
    "\n",
    "[color(Apple), color(Apple(123))]"
   ]
  },
  {
   "cell_type": "markdown",
   "metadata": {},
   "source": [
    "Now we can define two other functions:\n",
    "* `weight` function return the rounded weight of given food\n",
    "* `description` function prints some basic information about a given food"
   ]
  },
  {
   "cell_type": "code",
   "execution_count": null,
   "metadata": {},
   "outputs": [],
   "source": [
    "weight(x::Food) = ceil(Int64, x.weight)\n",
    "description(x::T) where {T <: Food} =\n",
    "    println(\"$(supertype(T).name): $(T.name), color: $(color(x)), weight: $(weight(x))g\")\n",
    "\n",
    "fruits = [\n",
    "    Apple(150),\n",
    "    Orange(235.4),\n",
    "    Banana(186.6),\n",
    "    Cucumber(246.1),\n",
    "    Carrot(120),\n",
    "    Lettuce(169)\n",
    "]\n",
    "\n",
    "description.(fruits);"
   ]
  },
  {
   "cell_type": "markdown",
   "metadata": {},
   "source": [
    "It is very useful to know which functions are defined for a particular type. We can use the `methodswith` function to get such information."
   ]
  },
  {
   "cell_type": "code",
   "execution_count": null,
   "metadata": {},
   "outputs": [],
   "source": [
    "methodswith(Apple; supertypes = true)"
   ]
  },
  {
   "cell_type": "markdown",
   "metadata": {},
   "source": [
    "# Complex example: Temperatures ([original source](https://medium.com/@Jernfrost/defining-custom-units-in-julia-and-python-513c34a4c971))\n",
    "\n",
    "In this example, we will show how to deal with temperatures in different units (*Celsius*, *Kelvin*, *Fahrenheit*). We have following goals:\n",
    "\n",
    "1. define types that represent temperature units\n",
    "2. define functions for conversion between temperature types\n",
    "3. define basic arithmetic operations for temperature types\n",
    "    * `Temperature + Temperature`\n",
    "    * `Temperature - Temperature`\n",
    "    * `number * Temperature`\n",
    "    * `Temperature / number`\n",
    "\n",
    "First, we define the abstract type `Temperature`. All of the above functions can be implemented without the use of the `Temperature` type, but it will be much more complicated."
   ]
  },
  {
   "cell_type": "code",
   "execution_count": null,
   "metadata": {},
   "outputs": [],
   "source": [
    "abstract type Temperature end"
   ]
  },
  {
   "cell_type": "markdown",
   "metadata": {},
   "source": [
    "We can now define a `Celsius` structure that will represent the temperature in degree *Celsius*."
   ]
  },
  {
   "cell_type": "code",
   "execution_count": null,
   "metadata": {},
   "outputs": [],
   "source": [
    "struct Celsius <: Temperature\n",
    "    value::Float64\n",
    "\n",
    "    function Celsius(x::Real)\n",
    "        x < -273.15 && throw(ArgumentError(\"input temperature smaller than absolute zero\"))\n",
    "        return new(x)\n",
    "    end\n",
    "end"
   ]
  },
  {
   "cell_type": "markdown",
   "metadata": {},
   "source": [
    "The previous definition is valid for any real number greater than or equal to *-273.15*, which is absolute zero in degrees Celsius."
   ]
  },
  {
   "cell_type": "code",
   "execution_count": null,
   "metadata": {},
   "outputs": [],
   "source": [
    "(Celsius(-273.15), Celsius(0), Celsius(100))"
   ]
  },
  {
   "cell_type": "markdown",
   "metadata": {},
   "source": [
    "Since Julia supports multiple-dispatch, we can easily extend existing functions to support newly defined types. For example, we can extend the `show` function from the` Base` module to change the way `Celsius` type is printed in REPL."
   ]
  },
  {
   "cell_type": "code",
   "execution_count": null,
   "metadata": {},
   "outputs": [],
   "source": [
    "Base.show(io::IO, t::Celsius) = print(io, t.value, \"°C\")"
   ]
  },
  {
   "cell_type": "markdown",
   "metadata": {},
   "source": [
    "Using the same values as above, we get the following output"
   ]
  },
  {
   "cell_type": "code",
   "execution_count": null,
   "metadata": {},
   "outputs": [],
   "source": [
    "(Celsius(-273.15), Celsius(0), Celsius(100))"
   ]
  },
  {
   "cell_type": "markdown",
   "metadata": {},
   "source": [
    "In  the same way, we can easily define another temperature scale."
   ]
  },
  {
   "cell_type": "code",
   "execution_count": null,
   "metadata": {},
   "outputs": [],
   "source": [
    "struct Kelvin <: Temperature\n",
    "    value::Float64\n",
    "\n",
    "    function Kelvin(x::Real)\n",
    "        x < 0 && throw(ArgumentError(\"input temperature smaller than absolute zero\"))\n",
    "        return new(x)\n",
    "    end\n",
    "end\n",
    "\n",
    "Base.show(io::IO, t::Kelvin) = print(io, t.value, \"K\")"
   ]
  },
  {
   "cell_type": "markdown",
   "metadata": {},
   "source": [
    "## Conversion\n",
    "\n",
    "We are now able to express temperatures in two different units, but we are not able to convert from one unit to another. In order to convert between units, we need to create a conversion function."
   ]
  },
  {
   "cell_type": "code",
   "execution_count": null,
   "metadata": {},
   "outputs": [],
   "source": [
    "Celsius2kelvin(t::Celsius) = Kelvin(t.value + 273.15)\n",
    "Kelvin2Celsius(t::Kelvin) = Celsius(t.value - 273.15)\n",
    "\n",
    "[\n",
    "    Celsius2kelvin(Celsius(0)),\n",
    "    Kelvin2Celsius(Kelvin(0))\n",
    "]"
   ]
  },
  {
   "cell_type": "markdown",
   "metadata": {},
   "source": [
    "However, the better way is to extend the `convert` function from the` Base` module and combine it with outer constructors for temperature types. In the first step, we define conversion rules using outer constructors"
   ]
  },
  {
   "cell_type": "code",
   "execution_count": null,
   "metadata": {},
   "outputs": [],
   "source": [
    "Kelvin(t::Celsius) = Kelvin(t.value + 273.15)\n",
    "Celsius(t::Kelvin) = Celsius(t.value - 273.15)"
   ]
  },
  {
   "cell_type": "markdown",
   "metadata": {},
   "source": [
    "In the second step, we define `convert` function for any subtype of the abstract type `Temperature`."
   ]
  },
  {
   "cell_type": "code",
   "execution_count": null,
   "metadata": {},
   "outputs": [],
   "source": [
    "Base.convert(::Type{T}, t::T) where {T<:Temperature} = t\n",
    "Base.convert(::Type{T}, t::Temperature) where {T<:Temperature} = T(t)"
   ]
  },
  {
   "cell_type": "markdown",
   "metadata": {},
   "source": [
    "The first method is only a temperature identity. The second method is an auxiliary function that passes the given temperature `t` to the constructor of the given type of temperature `T`. Using the same example as for the `temp_convert` function above results in"
   ]
  },
  {
   "cell_type": "code",
   "execution_count": null,
   "metadata": {},
   "outputs": [],
   "source": [
    "[\n",
    "    convert(Celsius, Celsius(0)),\n",
    "    convert(Kelvin, Kelvin(0)),\n",
    "    convert(Kelvin, Celsius(0)),\n",
    "    convert(Celsius, Kelvin(0))\n",
    "]"
   ]
  },
  {
   "cell_type": "markdown",
   "metadata": {},
   "source": [
    "### Basic arithmetic operations\n",
    "\n",
    "Before defining any arithmetic operation, we must define the right way to deal with cases where we have to deal with temperatures in different temperature scales. To do that, we have to define  `promote_rule` for our types"
   ]
  },
  {
   "cell_type": "code",
   "execution_count": null,
   "metadata": {},
   "outputs": [],
   "source": [
    "Base.promote_rule(::Type{Kelvin}, ::Type{Celsius}) = Kelvin\n",
    "\n",
    "[\n",
    "    promote_type(Celsius, Kelvin)\n",
    "    promote(Celsius(-273.15), Kelvin(0))\n",
    "]"
   ]
  },
  {
   "cell_type": "markdown",
   "metadata": {},
   "source": [
    "We can now define basic arithmetic operations in two easy steps as can be seen in the following code"
   ]
  },
  {
   "cell_type": "code",
   "execution_count": null,
   "metadata": {},
   "outputs": [],
   "source": [
    "import Base: +, -, *, /\n",
    "\n",
    "+(x::Temperature, y::Temperature) = +(promote(x,y)...)\n",
    "+(x::T, y::T) where {T<:Temperature} = T(x.value + y.value)\n",
    "\n",
    "-(x::Temperature, y::Temperature) = -(promote(x,y)...)\n",
    "-(x::T, y::T) where {T<:Temperature} = T(x.value - y.value)"
   ]
  },
  {
   "cell_type": "markdown",
   "metadata": {},
   "source": [
    "Now we are able to add and subtract temperatures in different temperature scales"
   ]
  },
  {
   "cell_type": "code",
   "execution_count": null,
   "metadata": {},
   "outputs": [],
   "source": [
    "[\n",
    "    Celsius(-273.15) + Kelvin(0),\n",
    "    Kelvin(0) + Celsius(-273.15),\n",
    "    Celsius(-273.15) - Kelvin(0),\n",
    "    Kelvin(0) - Celsius(-273.15)\n",
    "]"
   ]
  },
  {
   "cell_type": "markdown",
   "metadata": {},
   "source": [
    "We can also define the multiplication of temperature by a number and rounding function"
   ]
  },
  {
   "cell_type": "code",
   "execution_count": null,
   "metadata": {},
   "outputs": [],
   "source": [
    "*(x::Number, y::T) where {T <: Temperature} = T(x * y.value)\n",
    "*(x::T, y::Number) where {T <: Temperature} = T(y * x.value)\n",
    "\n",
    "Base.round(t::T, args...; kwargs...) where {T<:Temperature} = T(round(t.value, args...; kwargs...))"
   ]
  },
  {
   "cell_type": "markdown",
   "metadata": {},
   "source": [
    "In Julia, it is possible to apply given function `f(x)` to each element of an array `A` to yield a new array via `f.(A)`. We can use this syntax to obtain a random temperature vector in degrees Kelvin as follows"
   ]
  },
  {
   "cell_type": "code",
   "execution_count": null,
   "metadata": {},
   "outputs": [],
   "source": [
    "temps_K = Kelvin.(273.15 .+ 20 .* rand(10))"
   ]
  },
  {
   "cell_type": "markdown",
   "metadata": {},
   "source": [
    " In the same way, we can convert this vector to degrees Celsius and round it to two digits"
   ]
  },
  {
   "cell_type": "code",
   "execution_count": null,
   "metadata": {},
   "outputs": [],
   "source": [
    "temps_C = round.(Celsius.(temps_K); digits = 2)"
   ]
  },
  {
   "cell_type": "markdown",
   "metadata": {},
   "source": [
    "Finally, we can compute for example the sum of this vector"
   ]
  },
  {
   "cell_type": "code",
   "execution_count": null,
   "metadata": {},
   "outputs": [],
   "source": [
    "sum(temps_C)"
   ]
  },
  {
   "cell_type": "markdown",
   "metadata": {},
   "source": [
    "### Adding new temperature scale\n",
    "\n",
    "To add a new temperature scale, we have to:\n",
    "* define new type\n",
    "* extend `Base.show` (otpional)\n",
    "* define outer constructors for `Kelvin` and `Celsius`\n",
    "* define promote rules for `Kelvin` and `Celsius`"
   ]
  },
  {
   "cell_type": "code",
   "execution_count": null,
   "metadata": {},
   "outputs": [],
   "source": [
    "struct Fahrenheit <: Temperature\n",
    "    value::Float64\n",
    "\n",
    "    function Fahrenheit(x::Real)\n",
    "        x < -459.67 && throw(ArgumentError(\"input temperature smaller than absolute zero\"))\n",
    "        return new(x)\n",
    "    end\n",
    "end\n",
    "\n",
    "Base.show(io::IO, t::Fahrenheit) = print(io, t.value, \"°F\")\n",
    "\n",
    "Celsius(t::Fahrenheit) = Celsius((t.value - 32)*5/9)\n",
    "Fahrenheit(t::Celsius) = Fahrenheit(t.value*9/5 + 32)\n",
    "Kelvin(t::Fahrenheit) = Kelvin(Celsius(t))\n",
    "Fahrenheit(t::Kelvin) = Fahrenheit(Celsius(t))\n",
    "\n",
    "Base.promote_rule(::Type{Fahrenheit}, ::Type{Celsius}) = Celsius\n",
    "Base.promote_rule(::Type{Fahrenheit}, ::Type{Kelvin}) = Kelvin"
   ]
  },
  {
   "cell_type": "markdown",
   "metadata": {},
   "source": [
    "Now all the functions defined for `Kelvin` and `Celsius` will work for `Fahrenheit` as well"
   ]
  },
  {
   "cell_type": "code",
   "execution_count": null,
   "metadata": {},
   "outputs": [],
   "source": [
    "Temperature[\n",
    "    Fahrenheit(Celsius(0)),\n",
    "    Celsius(Fahrenheit(32)),\n",
    "    Fahrenheit(Kelvin(0)),\n",
    "    Kelvin(Fahrenheit(-459.67)),\n",
    "]\n",
    "\n",
    "Fahrenheit(32) + Celsius(0) - Kelvin(273.15)"
   ]
  },
  {
   "cell_type": "markdown",
   "metadata": {},
   "source": [
    "To obtain even more user-friendly behavior, we can define constants representing 1 degree in each temperature scale"
   ]
  },
  {
   "cell_type": "code",
   "execution_count": null,
   "metadata": {},
   "outputs": [],
   "source": [
    "const °C = Celsius(1)\n",
    "const K = Kelvin(1)\n",
    "const °F = Fahrenheit(1)"
   ]
  },
  {
   "cell_type": "markdown",
   "metadata": {},
   "source": [
    " With these constants and the fact, that `*` operator can be omitted in some cases, we can work with temperatures as follows"
   ]
  },
  {
   "cell_type": "code",
   "execution_count": null,
   "metadata": {},
   "outputs": [],
   "source": [
    "2°C + 4K - 2°F"
   ]
  },
  {
   "cell_type": "markdown",
   "metadata": {},
   "source": [
    "---\n",
    "\n",
    "*This notebook was generated using [Literate.jl](https://github.com/fredrikekre/Literate.jl).*"
   ]
  }
 ],
 "metadata": {
  "kernelspec": {
   "display_name": "Julia 1.5.0",
   "language": "julia",
   "name": "julia-1.5"
  },
  "language_info": {
   "file_extension": ".jl",
   "mimetype": "application/julia",
   "name": "julia",
   "version": "1.5.0"
  }
 },
 "nbformat": 4,
 "nbformat_minor": 3
}
